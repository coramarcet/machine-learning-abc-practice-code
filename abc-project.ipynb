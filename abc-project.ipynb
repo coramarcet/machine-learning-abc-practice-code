{
  "nbformat": 4,
  "nbformat_minor": 0,
  "metadata": {
    "colab": {
      "name": "abc-project.ipynb",
      "provenance": [],
      "collapsed_sections": [],
      "include_colab_link": true
    },
    "kernelspec": {
      "name": "python3",
      "display_name": "Python 3"
    }
  },
  "cells": [
    {
      "cell_type": "markdown",
      "metadata": {
        "id": "view-in-github",
        "colab_type": "text"
      },
      "source": [
        "<a href=\"https://colab.research.google.com/github/coramarcet/machine-learning-abc-practice-code/blob/main/abc-project.ipynb\" target=\"_parent\"><img src=\"https://colab.research.google.com/assets/colab-badge.svg\" alt=\"Open In Colab\"/></a>"
      ]
    },
    {
      "cell_type": "code",
      "metadata": {
        "id": "ePNieW1fA3op"
      },
      "source": [
        "import pandas as pd\r\n",
        "import tensorflow as tf\r\n",
        "from matplotlib import pyplot as plt"
      ],
      "execution_count": null,
      "outputs": []
    },
    {
      "cell_type": "code",
      "metadata": {
        "id": "JpOMEes9Bc8_"
      },
      "source": [
        "#@title Define the functions that build and train a model\r\n",
        "def build_model(my_learning_rate):\r\n",
        "  \"\"\"Create and compile a simple linear regression model.\"\"\"\r\n",
        "  # Most simple tf.keras models are sequential. \r\n",
        "  # A sequential model contains one or more layers.\r\n",
        "  model = tf.keras.models.Sequential()\r\n",
        "\r\n",
        "  # Describe the topography of the model.\r\n",
        "  # The topography of a simple linear regression model\r\n",
        "  # is a single node in a single layer. \r\n",
        "  model.add(tf.keras.layers.Dense(units=1, \r\n",
        "                                  input_shape=(1,)))\r\n",
        "\r\n",
        "  # Compile the model topography into code that \r\n",
        "  # TensorFlow can efficiently execute. Configure \r\n",
        "  # training to minimize the model's mean squared error. \r\n",
        "  model.compile(optimizer=tf.keras.optimizers.RMSprop(lr=my_learning_rate),\r\n",
        "                loss=\"mean_squared_error\",\r\n",
        "                metrics=[tf.keras.metrics.RootMeanSquaredError()])\r\n",
        "\r\n",
        "  return model           \r\n",
        "\r\n",
        "\r\n",
        "def train_model(model, feature, label, epochs, batch_size):\r\n",
        "  \"\"\"Train the model by feeding it data.\"\"\"\r\n",
        "\r\n",
        "  # Feed the feature values and the label values to the \r\n",
        "  # model. The model will train for the specified number \r\n",
        "  # of epochs, gradually learning how the feature values\r\n",
        "  # relate to the label values. \r\n",
        "  history = model.fit(x=feature,\r\n",
        "                      y=label,\r\n",
        "                      batch_size=batch_size,\r\n",
        "                      epochs=epochs)\r\n",
        "\r\n",
        "  # Gather the trained model's weight and bias.\r\n",
        "  trained_weight = model.get_weights()[0]\r\n",
        "  trained_bias = model.get_weights()[1]\r\n",
        "\r\n",
        "  # The list of epochs is stored separately from the \r\n",
        "  # rest of history.\r\n",
        "  epochs = history.epoch\r\n",
        "  \r\n",
        "  # Gather the history (a snapshot) of each epoch.\r\n",
        "  hist = pd.DataFrame(history.history)\r\n",
        "\r\n",
        "  # Specifically gather the model's root mean \r\n",
        "  #squared error at each epoch. \r\n",
        "  rmse = hist[\"root_mean_squared_error\"]\r\n",
        "\r\n",
        "  return trained_weight, trained_bias, epochs, rmse\r\n",
        "\r\n",
        "print(\"Defined create_model and train_model\")"
      ],
      "execution_count": null,
      "outputs": []
    },
    {
      "cell_type": "code",
      "metadata": {
        "colab": {
          "base_uri": "https://localhost:8080/"
        },
        "id": "YalEHApYCPU-",
        "outputId": "265063bc-ca26-4a61-ee11-fb9ac1f17466"
      },
      "source": [
        "#@title Define the plotting functions\r\n",
        "def plot_the_model(trained_weight, trained_bias, feature, label):\r\n",
        "  \"\"\"Plot the trained model against the training feature and label.\"\"\"\r\n",
        "\r\n",
        "  # Label the axes.\r\n",
        "  plt.xlabel(\"feature\")\r\n",
        "  plt.ylabel(\"label\")\r\n",
        "\r\n",
        "  # Plot the feature values vs. label values.\r\n",
        "  plt.scatter(feature, label)\r\n",
        "\r\n",
        "  # Create a red line representing the model. The red line starts\r\n",
        "  # at coordinates (x0, y0) and ends at coordinates (x1, y1).\r\n",
        "  x0 = 0\r\n",
        "  y0 = trained_bias\r\n",
        "  x1 = my_feature[-1]\r\n",
        "  y1 = trained_bias + (trained_weight * x1)\r\n",
        "  plt.plot([x0, x1], [y0, y1], c='r')\r\n",
        "\r\n",
        "  # Render the scatter plot and the red line.\r\n",
        "  plt.show()\r\n",
        "\r\n",
        "def plot_the_loss_curve(epochs, rmse):\r\n",
        "  \"\"\"Plot the loss curve, which shows loss vs. epoch.\"\"\"\r\n",
        "\r\n",
        "  plt.figure()\r\n",
        "  plt.xlabel(\"Epoch\")\r\n",
        "  plt.ylabel(\"Root Mean Squared Error\")\r\n",
        "\r\n",
        "  plt.plot(epochs, rmse, label=\"Loss\")\r\n",
        "  plt.legend()\r\n",
        "  plt.ylim([rmse.min()*0.97, rmse.max()])\r\n",
        "  plt.show()\r\n",
        "\r\n",
        "print(\"Defined the plot_the_model and plot_the_loss_curve functions.\")"
      ],
      "execution_count": null,
      "outputs": [
        {
          "output_type": "stream",
          "text": [
            "Defined the plot_the_model and plot_the_loss_curve functions.\n"
          ],
          "name": "stdout"
        }
      ]
    },
    {
      "cell_type": "code",
      "metadata": {
        "id": "mTDUlqg6Cr4H"
      },
      "source": [
        "my_feature = ([1.0, 2.0,  3.0,  4.0,  5.0,  6.0,  7.0,  8.0,  9.0, 10.0, 11.0, 12.0])\r\n",
        "my_label   = ([3.0, 4.2,  5.9, 8.2, 13.2, 14.2, 18.4, 19.8, 22.3, 32.0, 33.8, 38.2])"
      ],
      "execution_count": null,
      "outputs": []
    }
  ]
}